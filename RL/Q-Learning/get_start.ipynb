{
 "cells": [
  {
   "cell_type": "markdown",
   "metadata": {},
   "source": [
    "# Code for my first q-learning journey"
   ]
  },
  {
   "cell_type": "code",
   "execution_count": 3,
   "metadata": {},
   "outputs": [],
   "source": [
    "import numpy as np"
   ]
  },
  {
   "cell_type": "code",
   "execution_count": 4,
   "metadata": {},
   "outputs": [],
   "source": [
    "# q is the tabular representation for q func\n",
    "q = np.matrix(np.zeros([6, 6]))\n",
    "\n",
    "# r is the tabular representation for rewards\n",
    "# r is predefined and remains unchanged\n",
    "r = np.matrix([\n",
    "    [-1, -1, -1, -1, 0, -1],\n",
    "    [-1, -1, -1,  0, -1, 100],\n",
    "    [-1, -1, -1,  0, -1,  -1],\n",
    "    [-1,  0,  0, -1,  0,  -1],\n",
    "    [ 0, -1, -1,  0, -1, 100],\n",
    "    [-1,  0, -1, -1,  0, 100]])\n",
    "\n",
    "# hyper-parameter\n",
    "gamma = 0.8\n",
    "epsilon = 0.4"
   ]
  },
  {
   "cell_type": "code",
   "execution_count": 8,
   "metadata": {},
   "outputs": [
    {
     "output_type": "stream",
     "name": "stdout",
     "text": "------------------------------------------------\nTraining episode: 0\n[[  0.   0.   0.   0.   0.   0.]\n [  0.   0.   0.   0.   0. 100.]\n [  0.   0.   0.   0.   0.   0.]\n [  0.   0.   0.   0.   0.   0.]\n [  0.   0.   0.   0.   0.   0.]\n [  0.   0.   0.   0.   0.   0.]]\n------------------------------------------------\nTraining episode: 10\n[[  0.   0.   0.   0.  80.   0.]\n [  0.   0.   0.  64.   0. 100.]\n [  0.   0.   0.  64.   0.   0.]\n [  0.  80.   0.   0.   0.   0.]\n [  0.   0.   0.   0.   0. 100.]\n [  0.   0.   0.   0.   0.   0.]]\n------------------------------------------------\nTraining episode: 20\n[[  0.    0.    0.    0.   80.    0. ]\n [  0.    0.    0.   64.    0.  100. ]\n [  0.    0.    0.   64.    0.    0. ]\n [  0.   80.   51.2   0.   80.    0. ]\n [  0.    0.    0.    0.    0.  100. ]\n [  0.    0.    0.    0.    0.    0. ]]\n------------------------------------------------\nTraining episode: 30\n[[  0.    0.    0.    0.   80.    0. ]\n [  0.    0.    0.   64.    0.  100. ]\n [  0.    0.    0.   64.    0.    0. ]\n [  0.   80.   51.2   0.   80.    0. ]\n [ 64.    0.    0.    0.    0.  100. ]\n [  0.    0.    0.    0.    0.    0. ]]\n------------------------------------------------\nTraining episode: 40\n[[  0.    0.    0.    0.   80.    0. ]\n [  0.    0.    0.   64.    0.  100. ]\n [  0.    0.    0.   64.    0.    0. ]\n [  0.   80.   51.2   0.   80.    0. ]\n [ 64.    0.    0.    0.    0.  100. ]\n [  0.    0.    0.    0.    0.    0. ]]\n------------------------------------------------\nTraining episode: 50\n[[  0.    0.    0.    0.   80.    0. ]\n [  0.    0.    0.   64.    0.  100. ]\n [  0.    0.    0.   64.    0.    0. ]\n [  0.   80.   51.2   0.   80.    0. ]\n [ 64.    0.    0.    0.    0.  100. ]\n [  0.    0.    0.    0.    0.    0. ]]\n------------------------------------------------\nTraining episode: 60\n[[  0.    0.    0.    0.   80.    0. ]\n [  0.    0.    0.   64.    0.  100. ]\n [  0.    0.    0.   64.    0.    0. ]\n [  0.   80.   51.2   0.   80.    0. ]\n [ 64.    0.    0.    0.    0.  100. ]\n [  0.    0.    0.    0.    0.    0. ]]\n------------------------------------------------\nTraining episode: 70\n[[  0.    0.    0.    0.   80.    0. ]\n [  0.    0.    0.   64.    0.  100. ]\n [  0.    0.    0.   64.    0.    0. ]\n [  0.   80.   51.2   0.   80.    0. ]\n [ 64.    0.    0.   64.    0.  100. ]\n [  0.    0.    0.    0.    0.    0. ]]\n------------------------------------------------\nTraining episode: 80\n[[  0.    0.    0.    0.   80.    0. ]\n [  0.    0.    0.   64.    0.  100. ]\n [  0.    0.    0.   64.    0.    0. ]\n [  0.   80.   51.2   0.   80.    0. ]\n [ 64.    0.    0.   64.    0.  100. ]\n [  0.    0.    0.    0.    0.    0. ]]\n------------------------------------------------\nTraining episode: 90\n[[  0.    0.    0.    0.   80.    0. ]\n [  0.    0.    0.   64.    0.  100. ]\n [  0.    0.    0.   64.    0.    0. ]\n [  0.   80.   51.2   0.   80.    0. ]\n [ 64.    0.    0.   64.    0.  100. ]\n [  0.    0.    0.    0.    0.    0. ]]\n------------------------------------------------\nTraining episode: 100\n[[  0.    0.    0.    0.   80.    0. ]\n [  0.    0.    0.   64.    0.  100. ]\n [  0.    0.    0.   64.    0.    0. ]\n [  0.   80.   51.2   0.   80.    0. ]\n [ 64.    0.    0.   64.    0.  100. ]\n [  0.    0.    0.    0.    0.    0. ]]\n"
    }
   ],
   "source": [
    "# the main training loop\n",
    "for episode in range(101):\n",
    "    # random initial state\n",
    "    state = np.random.randint(0, 6)\n",
    "    while (state != 5): # stop only when state is TERMINAL\n",
    "        # Filter feasible actions.\n",
    "        # Even in random case, we cannot choose actions whose r[state, action] = -1\n",
    "        # It's not about RL. these actions are not feasible pysically\n",
    "\n",
    "        possible_actions = []\n",
    "        possible_q = []\n",
    "        for action in range(6):\n",
    "            if r[state, action] >= 0:\n",
    "                possible_actions.append(action)\n",
    "                possible_q.append(q[state, action])\n",
    "\n",
    "        # tep next state, here we use epsilon-greedy algorithm\n",
    "        action = -1\n",
    "        if np.random.random() < epsilon:\n",
    "            # choose random action\n",
    "            action = possible_actions[np.random.randint(0, len(possible_actions))]\n",
    "        else:\n",
    "            # greedy\n",
    "            action = possible_actions[np.argmax(possible_q)]\n",
    "\n",
    "        # Update q value\n",
    "        q[state, action] = r[state, action] + gamma * q[action].max()\n",
    "\n",
    "        # Go to the next state\n",
    "        state = action\n",
    "\n",
    "    # Display training track\n",
    "    if episode % 10 == 0:\n",
    "        print(\"------------------------------------------------\")\n",
    "        print(\"Training episode: %d\" % episode)\n",
    "        print(q)"
   ]
  },
  {
   "cell_type": "code",
   "execution_count": 9,
   "metadata": {},
   "outputs": [
    {
     "output_type": "stream",
     "name": "stdout",
     "text": "episode: 0\nthe robot borns in 4.\nthe robot goes to 5.\nepisode: 1\nthe robot borns in 3.\nthe robot goes to 1.\nthe robot goes to 5.\nepisode: 2\nthe robot borns in 4.\nthe robot goes to 5.\nepisode: 3\nthe robot borns in 2.\nthe robot goes to 3.\nthe robot goes to 1.\nthe robot goes to 5.\nepisode: 4\nthe robot borns in 5.\nepisode: 5\nthe robot borns in 2.\nthe robot goes to 3.\nthe robot goes to 1.\nthe robot goes to 5.\nepisode: 6\nthe robot borns in 4.\nthe robot goes to 5.\nepisode: 7\nthe robot borns in 2.\nthe robot goes to 3.\nthe robot goes to 1.\nthe robot goes to 5.\nepisode: 8\nthe robot borns in 1.\nthe robot goes to 5.\nepisode: 9\nthe robot borns in 3.\nthe robot goes to 1.\nthe robot goes to 5.\n"
    }
   ],
   "source": [
    "# verify\n",
    "for i in range(10):\n",
    "    # one episode\n",
    "    print('episode: %d' % i)\n",
    "\n",
    "    # random initial state\n",
    "    state = np.random.randint(0, 6)\n",
    "    print('the robot borns in %d.' % state)\n",
    "    for _ in range(20):\n",
    "        if state == 5:\n",
    "            break\n",
    "        action = np.argmax(q[state])\n",
    "        print('the robot goes to %d.' % action)\n",
    "        state = action"
   ]
  },
  {
   "cell_type": "code",
   "execution_count": null,
   "metadata": {},
   "outputs": [],
   "source": []
  }
 ],
 "metadata": {
  "language_info": {
   "codemirror_mode": {
    "name": "ipython",
    "version": 3
   },
   "file_extension": ".py",
   "mimetype": "text/x-python",
   "name": "python",
   "nbconvert_exporter": "python",
   "pygments_lexer": "ipython3",
   "version": 3
  },
  "orig_nbformat": 2,
  "kernelspec": {
   "name": "python_defaultSpec_1598536930161",
   "display_name": "Python 3.6.5 64-bit"
  }
 },
 "nbformat": 4,
 "nbformat_minor": 2
}